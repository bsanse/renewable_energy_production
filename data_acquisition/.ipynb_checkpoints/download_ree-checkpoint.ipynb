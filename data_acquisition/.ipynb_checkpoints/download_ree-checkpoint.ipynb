{
 "cells": [
  {
   "cell_type": "markdown",
   "metadata": {},
   "source": [
    "# Download energy production data from REE website"
   ]
  },
  {
   "cell_type": "markdown",
   "metadata": {},
   "source": [
    "## Script setup"
   ]
  },
  {
   "cell_type": "code",
   "execution_count": 2,
   "metadata": {},
   "outputs": [],
   "source": [
    "import pandas as pd\n",
    "import numpy as np\n",
    "from bs4 import BeautifulSoup\n",
    "from lxml import html\n",
    "from selenium import webdriver\n",
    "import requests\n",
    "import time\n",
    "from datetime import timedelta, date\n",
    "import csv\n"
   ]
  },
  {
   "cell_type": "code",
   "execution_count": 3,
   "metadata": {},
   "outputs": [],
   "source": [
    "#Preparing date to iterate\n",
    "def daterange(start_date, end_date):\n",
    "    for n in range(int ((end_date - start_date).days)):\n",
    "        yield start_date + timedelta(n)\n",
    "\n",
    "start_date = date(2008, 1, 1)\n",
    "end_date = date(2008, 1, 3)\n",
    "\n"
   ]
  },
  {
   "cell_type": "markdown",
   "metadata": {},
   "source": [
    "## Write CSV"
   ]
  },
  {
   "cell_type": "code",
   "execution_count": 9,
   "metadata": {},
   "outputs": [],
   "source": [
    "driver = webdriver.Firefox()\n",
    "\n",
    "file = open('../data/generation.csv', 'w')\n",
    "csv_writer = csv.writer(file)\n",
    "\n",
    "\n",
    "for single_date in daterange(start_date, end_date):\n",
    "    \n",
    "    #update start_date to restart in case it breaks\n",
    "    start_date = single_date\n",
    "    \n",
    "    #create URL\n",
    "    url = 'https://demanda.ree.es/visiona/peninsula/demanda/tablas/' + single_date.strftime(\"%Y-%m-%d\")+'/2'\n",
    "    \n",
    "    #Scraping with selenium driver\n",
    "    driver.get(url)\n",
    "    time.sleep(5)\n",
    "    \n",
    "    #getting table\n",
    "    soup = BeautifulSoup(driver.page_source, 'lxml')\n",
    "    table = soup.find(\"table\", { \"id\" : \"tabla_generacion\" })\n",
    "    table_rows = table.find_all('tr')\n",
    "    \n",
    "    #saving in a list\n",
    "    for tr in table_rows:\n",
    "        td = tr.find_all('td')\n",
    "        row = [tr.text.strip() for tr in td if tr.text.strip()]\n",
    "        if row:\n",
    "            csv_writer.writerow(row)\n"
   ]
  }
 ],
 "metadata": {
  "kernelspec": {
   "display_name": "Python 3",
   "language": "python",
   "name": "python3"
  },
  "language_info": {
   "codemirror_mode": {
    "name": "ipython",
    "version": 3
   },
   "file_extension": ".py",
   "mimetype": "text/x-python",
   "name": "python",
   "nbconvert_exporter": "python",
   "pygments_lexer": "ipython3",
   "version": "3.7.2"
  }
 },
 "nbformat": 4,
 "nbformat_minor": 2
}
